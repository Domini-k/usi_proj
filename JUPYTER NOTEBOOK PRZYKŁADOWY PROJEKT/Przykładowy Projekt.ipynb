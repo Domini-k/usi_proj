{
 "cells": [
  {
   "cell_type": "code",
   "execution_count": 1,
   "id": "447004b4",
   "metadata": {},
   "outputs": [],
   "source": [
    "import numpy as np\n",
    "import pandas as pd\n",
    "import keras"
   ]
  },
  {
   "cell_type": "markdown",
   "id": "01df7103",
   "metadata": {},
   "source": [
    "### Import modelu"
   ]
  },
  {
   "cell_type": "code",
   "execution_count": 2,
   "id": "12f6ff43",
   "metadata": {},
   "outputs": [],
   "source": [
    "from keras.models import load_model"
   ]
  },
  {
   "cell_type": "code",
   "execution_count": 3,
   "id": "98186eae",
   "metadata": {},
   "outputs": [],
   "source": [
    "model = load_model('model_do_projektu')"
   ]
  },
  {
   "cell_type": "code",
   "execution_count": 4,
   "id": "80d99c3b",
   "metadata": {},
   "outputs": [
    {
     "name": "stdout",
     "output_type": "stream",
     "text": [
      "Model: \"sequential_3\"\n",
      "_________________________________________________________________\n",
      " Layer (type)                Output Shape              Param #   \n",
      "=================================================================\n",
      " dense_8 (Dense)             (None, 3)                 12        \n",
      "                                                                 \n",
      " dense_9 (Dense)             (None, 2)                 8         \n",
      "                                                                 \n",
      " dense_10 (Dense)            (None, 1)                 3         \n",
      "                                                                 \n",
      "=================================================================\n",
      "Total params: 23\n",
      "Trainable params: 23\n",
      "Non-trainable params: 0\n",
      "_________________________________________________________________\n"
     ]
    }
   ],
   "source": [
    "model.summary()"
   ]
  },
  {
   "cell_type": "markdown",
   "id": "0b8281e1",
   "metadata": {},
   "source": [
    "### Wgranie bazy danych użytkowników"
   ]
  },
  {
   "cell_type": "code",
   "execution_count": 7,
   "id": "9e847b89",
   "metadata": {},
   "outputs": [],
   "source": [
    "users = pd.read_excel('user_db.xlsx').drop(columns='Unnamed: 0')"
   ]
  },
  {
   "cell_type": "code",
   "execution_count": 8,
   "id": "d62b0571",
   "metadata": {},
   "outputs": [
    {
     "data": {
      "text/html": [
       "<div>\n",
       "<style scoped>\n",
       "    .dataframe tbody tr th:only-of-type {\n",
       "        vertical-align: middle;\n",
       "    }\n",
       "\n",
       "    .dataframe tbody tr th {\n",
       "        vertical-align: top;\n",
       "    }\n",
       "\n",
       "    .dataframe thead th {\n",
       "        text-align: right;\n",
       "    }\n",
       "</style>\n",
       "<table border=\"1\" class=\"dataframe\">\n",
       "  <thead>\n",
       "    <tr style=\"text-align: right;\">\n",
       "      <th></th>\n",
       "      <th>login</th>\n",
       "      <th>password</th>\n",
       "      <th>imię</th>\n",
       "      <th>nazwisko</th>\n",
       "      <th>rola</th>\n",
       "      <th>data_ost_logowania</th>\n",
       "      <th>wprowadzona liczba</th>\n",
       "      <th>wynik</th>\n",
       "    </tr>\n",
       "  </thead>\n",
       "  <tbody>\n",
       "    <tr>\n",
       "      <th>0</th>\n",
       "      <td>google_boss</td>\n",
       "      <td>asdfghjkl</td>\n",
       "      <td>google</td>\n",
       "      <td>boss</td>\n",
       "      <td>admin</td>\n",
       "      <td>19-12-2021</td>\n",
       "      <td>NaN</td>\n",
       "      <td>NaN</td>\n",
       "    </tr>\n",
       "    <tr>\n",
       "      <th>1</th>\n",
       "      <td>kot_szprot</td>\n",
       "      <td>1234567890</td>\n",
       "      <td>kot</td>\n",
       "      <td>szprot</td>\n",
       "      <td>user</td>\n",
       "      <td>20-12-2021</td>\n",
       "      <td>NaN</td>\n",
       "      <td>NaN</td>\n",
       "    </tr>\n",
       "    <tr>\n",
       "      <th>2</th>\n",
       "      <td>pokemon</td>\n",
       "      <td>pikachu</td>\n",
       "      <td>pikachu</td>\n",
       "      <td>pikachu</td>\n",
       "      <td>moderator</td>\n",
       "      <td>NaN</td>\n",
       "      <td>NaN</td>\n",
       "      <td>NaN</td>\n",
       "    </tr>\n",
       "  </tbody>\n",
       "</table>\n",
       "</div>"
      ],
      "text/plain": [
       "         login    password     imię nazwisko       rola data_ost_logowania  \\\n",
       "0  google_boss   asdfghjkl   google     boss      admin         19-12-2021   \n",
       "1   kot_szprot  1234567890      kot   szprot       user         20-12-2021   \n",
       "2      pokemon     pikachu  pikachu  pikachu  moderator                NaN   \n",
       "\n",
       "   wprowadzona liczba  wynik  \n",
       "0                 NaN    NaN  \n",
       "1                 NaN    NaN  \n",
       "2                 NaN    NaN  "
      ]
     },
     "execution_count": 8,
     "metadata": {},
     "output_type": "execute_result"
    }
   ],
   "source": [
    "users"
   ]
  },
  {
   "cell_type": "code",
   "execution_count": 9,
   "id": "ec00ae07",
   "metadata": {},
   "outputs": [],
   "source": [
    "from datetime import datetime, timedelta\n",
    "\n",
    "def logowanie(users):\n",
    "    login = input(\"Login: \")\n",
    "    password = input(\"Hasło: \")\n",
    "\n",
    "    user = users.loc[login == users['login']]\n",
    "    \n",
    "    if len(user) == 0:\n",
    "        print(\"Nie ma takiego usera!\")\n",
    "    \n",
    "    if password == str(user['password'].values[0]):\n",
    "        print(\"----------------------------\")\n",
    "        print(\"Witaj {}\".format(login))\n",
    "        users['data_ost_logowania'].loc[login == users['login']] = datetime.now().strftime(\"%d-%m-%Y\")\n",
    "        users.loc[login == users['login']]\n",
    "        return users, user\n",
    "        \n",
    "    else:\n",
    "        print(\"----------------------------\")\n",
    "        print(\"Nie udało się zalogować... sprawdź login i hasło.\")"
   ]
  },
  {
   "cell_type": "code",
   "execution_count": 11,
   "id": "d9fbb1f4",
   "metadata": {},
   "outputs": [
    {
     "name": "stdout",
     "output_type": "stream",
     "text": [
      "Login: google_boss\n",
      "Hasło: asdfghjkl\n",
      "----------------------------\n",
      "Witaj google_boss\n"
     ]
    },
    {
     "name": "stderr",
     "output_type": "stream",
     "text": [
      "C:\\Users\\user\\anaconda3\\lib\\site-packages\\pandas\\core\\indexing.py:1732: SettingWithCopyWarning: \n",
      "A value is trying to be set on a copy of a slice from a DataFrame\n",
      "\n",
      "See the caveats in the documentation: https://pandas.pydata.org/pandas-docs/stable/user_guide/indexing.html#returning-a-view-versus-a-copy\n",
      "  self._setitem_single_block(indexer, value, name)\n"
     ]
    }
   ],
   "source": [
    "users, user = logowanie(users)"
   ]
  },
  {
   "cell_type": "code",
   "execution_count": 12,
   "id": "320fe3c3",
   "metadata": {},
   "outputs": [
    {
     "data": {
      "text/html": [
       "<div>\n",
       "<style scoped>\n",
       "    .dataframe tbody tr th:only-of-type {\n",
       "        vertical-align: middle;\n",
       "    }\n",
       "\n",
       "    .dataframe tbody tr th {\n",
       "        vertical-align: top;\n",
       "    }\n",
       "\n",
       "    .dataframe thead th {\n",
       "        text-align: right;\n",
       "    }\n",
       "</style>\n",
       "<table border=\"1\" class=\"dataframe\">\n",
       "  <thead>\n",
       "    <tr style=\"text-align: right;\">\n",
       "      <th></th>\n",
       "      <th>login</th>\n",
       "      <th>password</th>\n",
       "      <th>imię</th>\n",
       "      <th>nazwisko</th>\n",
       "      <th>rola</th>\n",
       "      <th>data_ost_logowania</th>\n",
       "      <th>wprowadzona liczba</th>\n",
       "      <th>wynik</th>\n",
       "    </tr>\n",
       "  </thead>\n",
       "  <tbody>\n",
       "    <tr>\n",
       "      <th>0</th>\n",
       "      <td>google_boss</td>\n",
       "      <td>asdfghjkl</td>\n",
       "      <td>google</td>\n",
       "      <td>boss</td>\n",
       "      <td>admin</td>\n",
       "      <td>19-12-2021</td>\n",
       "      <td>NaN</td>\n",
       "      <td>NaN</td>\n",
       "    </tr>\n",
       "  </tbody>\n",
       "</table>\n",
       "</div>"
      ],
      "text/plain": [
       "         login   password    imię nazwisko   rola data_ost_logowania  \\\n",
       "0  google_boss  asdfghjkl  google     boss  admin         19-12-2021   \n",
       "\n",
       "   wprowadzona liczba  wynik  \n",
       "0                 NaN    NaN  "
      ]
     },
     "execution_count": 12,
     "metadata": {},
     "output_type": "execute_result"
    }
   ],
   "source": [
    "user"
   ]
  },
  {
   "cell_type": "code",
   "execution_count": 13,
   "id": "d4f57ad0",
   "metadata": {},
   "outputs": [
    {
     "data": {
      "text/html": [
       "<div>\n",
       "<style scoped>\n",
       "    .dataframe tbody tr th:only-of-type {\n",
       "        vertical-align: middle;\n",
       "    }\n",
       "\n",
       "    .dataframe tbody tr th {\n",
       "        vertical-align: top;\n",
       "    }\n",
       "\n",
       "    .dataframe thead th {\n",
       "        text-align: right;\n",
       "    }\n",
       "</style>\n",
       "<table border=\"1\" class=\"dataframe\">\n",
       "  <thead>\n",
       "    <tr style=\"text-align: right;\">\n",
       "      <th></th>\n",
       "      <th>login</th>\n",
       "      <th>password</th>\n",
       "      <th>imię</th>\n",
       "      <th>nazwisko</th>\n",
       "      <th>rola</th>\n",
       "      <th>data_ost_logowania</th>\n",
       "      <th>wprowadzona liczba</th>\n",
       "      <th>wynik</th>\n",
       "    </tr>\n",
       "  </thead>\n",
       "  <tbody>\n",
       "    <tr>\n",
       "      <th>0</th>\n",
       "      <td>google_boss</td>\n",
       "      <td>asdfghjkl</td>\n",
       "      <td>google</td>\n",
       "      <td>boss</td>\n",
       "      <td>admin</td>\n",
       "      <td>09-01-2022</td>\n",
       "      <td>NaN</td>\n",
       "      <td>NaN</td>\n",
       "    </tr>\n",
       "    <tr>\n",
       "      <th>1</th>\n",
       "      <td>kot_szprot</td>\n",
       "      <td>1234567890</td>\n",
       "      <td>kot</td>\n",
       "      <td>szprot</td>\n",
       "      <td>user</td>\n",
       "      <td>20-12-2021</td>\n",
       "      <td>NaN</td>\n",
       "      <td>NaN</td>\n",
       "    </tr>\n",
       "    <tr>\n",
       "      <th>2</th>\n",
       "      <td>pokemon</td>\n",
       "      <td>pikachu</td>\n",
       "      <td>pikachu</td>\n",
       "      <td>pikachu</td>\n",
       "      <td>moderator</td>\n",
       "      <td>NaN</td>\n",
       "      <td>NaN</td>\n",
       "      <td>NaN</td>\n",
       "    </tr>\n",
       "  </tbody>\n",
       "</table>\n",
       "</div>"
      ],
      "text/plain": [
       "         login    password     imię nazwisko       rola data_ost_logowania  \\\n",
       "0  google_boss   asdfghjkl   google     boss      admin         09-01-2022   \n",
       "1   kot_szprot  1234567890      kot   szprot       user         20-12-2021   \n",
       "2      pokemon     pikachu  pikachu  pikachu  moderator                NaN   \n",
       "\n",
       "   wprowadzona liczba  wynik  \n",
       "0                 NaN    NaN  \n",
       "1                 NaN    NaN  \n",
       "2                 NaN    NaN  "
      ]
     },
     "execution_count": 13,
     "metadata": {},
     "output_type": "execute_result"
    }
   ],
   "source": [
    "users"
   ]
  },
  {
   "cell_type": "code",
   "execution_count": 25,
   "id": "0a71db92",
   "metadata": {},
   "outputs": [],
   "source": [
    "def dodaj_liczby(array, user, users):\n",
    "    y_pred = model.predict(array)\n",
    "    users['wprowadzona liczba'].loc[user.index] = array[0,0]\n",
    "    users['wynik'].loc[user.index] = y_pred\n",
    "    return users"
   ]
  },
  {
   "cell_type": "code",
   "execution_count": 26,
   "id": "f386c381",
   "metadata": {},
   "outputs": [
    {
     "data": {
      "text/plain": [
       "3"
      ]
     },
     "execution_count": 26,
     "metadata": {},
     "output_type": "execute_result"
    }
   ],
   "source": [
    "array = np.array([3,5,2]).reshape([1,3])\n",
    "array[0,0]"
   ]
  },
  {
   "cell_type": "code",
   "execution_count": 27,
   "id": "0a412032",
   "metadata": {},
   "outputs": [],
   "source": [
    "users = dodaj_liczby(array, user, users)"
   ]
  },
  {
   "cell_type": "code",
   "execution_count": 28,
   "id": "34c37626",
   "metadata": {},
   "outputs": [
    {
     "data": {
      "text/html": [
       "<div>\n",
       "<style scoped>\n",
       "    .dataframe tbody tr th:only-of-type {\n",
       "        vertical-align: middle;\n",
       "    }\n",
       "\n",
       "    .dataframe tbody tr th {\n",
       "        vertical-align: top;\n",
       "    }\n",
       "\n",
       "    .dataframe thead th {\n",
       "        text-align: right;\n",
       "    }\n",
       "</style>\n",
       "<table border=\"1\" class=\"dataframe\">\n",
       "  <thead>\n",
       "    <tr style=\"text-align: right;\">\n",
       "      <th></th>\n",
       "      <th>login</th>\n",
       "      <th>password</th>\n",
       "      <th>imię</th>\n",
       "      <th>nazwisko</th>\n",
       "      <th>rola</th>\n",
       "      <th>data_ost_logowania</th>\n",
       "      <th>wprowadzona liczba</th>\n",
       "      <th>wynik</th>\n",
       "    </tr>\n",
       "  </thead>\n",
       "  <tbody>\n",
       "    <tr>\n",
       "      <th>0</th>\n",
       "      <td>google_boss</td>\n",
       "      <td>asdfghjkl</td>\n",
       "      <td>google</td>\n",
       "      <td>boss</td>\n",
       "      <td>admin</td>\n",
       "      <td>09-01-2022</td>\n",
       "      <td>3.0</td>\n",
       "      <td>0.063267</td>\n",
       "    </tr>\n",
       "    <tr>\n",
       "      <th>1</th>\n",
       "      <td>kot_szprot</td>\n",
       "      <td>1234567890</td>\n",
       "      <td>kot</td>\n",
       "      <td>szprot</td>\n",
       "      <td>user</td>\n",
       "      <td>20-12-2021</td>\n",
       "      <td>NaN</td>\n",
       "      <td>NaN</td>\n",
       "    </tr>\n",
       "    <tr>\n",
       "      <th>2</th>\n",
       "      <td>pokemon</td>\n",
       "      <td>pikachu</td>\n",
       "      <td>pikachu</td>\n",
       "      <td>pikachu</td>\n",
       "      <td>moderator</td>\n",
       "      <td>NaN</td>\n",
       "      <td>NaN</td>\n",
       "      <td>NaN</td>\n",
       "    </tr>\n",
       "  </tbody>\n",
       "</table>\n",
       "</div>"
      ],
      "text/plain": [
       "         login    password     imię nazwisko       rola data_ost_logowania  \\\n",
       "0  google_boss   asdfghjkl   google     boss      admin         09-01-2022   \n",
       "1   kot_szprot  1234567890      kot   szprot       user         20-12-2021   \n",
       "2      pokemon     pikachu  pikachu  pikachu  moderator                NaN   \n",
       "\n",
       "   wprowadzona liczba     wynik  \n",
       "0                 3.0  0.063267  \n",
       "1                 NaN       NaN  \n",
       "2                 NaN       NaN  "
      ]
     },
     "execution_count": 28,
     "metadata": {},
     "output_type": "execute_result"
    }
   ],
   "source": [
    "users"
   ]
  },
  {
   "cell_type": "code",
   "execution_count": 29,
   "id": "5dd5bc46",
   "metadata": {},
   "outputs": [],
   "source": [
    "users.to_excel('user_db.xlsx')"
   ]
  },
  {
   "cell_type": "code",
   "execution_count": null,
   "id": "9c0d9dd9",
   "metadata": {},
   "outputs": [],
   "source": []
  }
 ],
 "metadata": {
  "kernelspec": {
   "display_name": "Python 3 (ipykernel)",
   "language": "python",
   "name": "python3"
  },
  "language_info": {
   "codemirror_mode": {
    "name": "ipython",
    "version": 3
   },
   "file_extension": ".py",
   "mimetype": "text/x-python",
   "name": "python",
   "nbconvert_exporter": "python",
   "pygments_lexer": "ipython3",
   "version": "3.8.5"
  }
 },
 "nbformat": 4,
 "nbformat_minor": 5
}
